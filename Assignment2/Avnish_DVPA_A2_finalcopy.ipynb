{
  "nbformat": 4,
  "nbformat_minor": 0,
  "metadata": {
    "colab": {
      "provenance": [],
      "collapsed_sections": [
        "vrlGx0N9qYcI",
        "FcJa0589zlRL"
      ],
      "gpuType": "T4"
    },
    "kernelspec": {
      "name": "python3",
      "display_name": "Python 3"
    },
    "language_info": {
      "name": "python"
    },
    "accelerator": "GPU"
  },
  "cells": [
    {
      "cell_type": "markdown",
      "source": [
        "#imports"
      ],
      "metadata": {
        "id": "VB86xJ8x8Dlp"
      }
    },
    {
      "cell_type": "markdown",
      "source": [
        "IMPORTS"
      ],
      "metadata": {
        "id": "n7lVJkdyuyjq"
      }
    },
    {
      "cell_type": "code",
      "source": [
        "import numpy as np\n",
        "from skimage import io\n",
        "import matplotlib.pyplot as plt\n",
        "import cv2, math, os, torch, argparse\n",
        "from google.colab.patches import cv2_imshow"
      ],
      "metadata": {
        "id": "hONDEGcG_1q2"
      },
      "execution_count": null,
      "outputs": []
    },
    {
      "cell_type": "code",
      "source": [
        "import numpy as np\n",
        "def make_colorwheel():\n",
        "    \"\"\"\n",
        "    Generates a color wheel for optical flow visualization as presented in:\n",
        "        Baker et al. \"A Database and Evaluation Methodology for Optical Flow\" (ICCV, 2007)\n",
        "        URL: http://vision.middlebury.edu/flow/flowEval-iccv07.pdf\n",
        "\n",
        "    Code follows the original C++ source code of Daniel Scharstein.\n",
        "    Code follows the the Matlab source code of Deqing Sun.\n",
        "\n",
        "    Returns:\n",
        "        np.ndarray: Color wheel\n",
        "    \"\"\"\n",
        "\n",
        "    RY = 15\n",
        "    YG = 6\n",
        "    GC = 4\n",
        "    CB = 11\n",
        "    BM = 13\n",
        "    MR = 6\n",
        "\n",
        "    ncols = RY + YG + GC + CB + BM + MR\n",
        "    colorwheel = np.zeros((ncols, 3))\n",
        "    col = 0\n",
        "\n",
        "    # RY\n",
        "    colorwheel[0:RY, 0] = 255\n",
        "    colorwheel[0:RY, 1] = np.floor(255*np.arange(0,RY)/RY)\n",
        "    col = col+RY\n",
        "    # YG\n",
        "    colorwheel[col:col+YG, 0] = 255 - np.floor(255*np.arange(0,YG)/YG)\n",
        "    colorwheel[col:col+YG, 1] = 255\n",
        "    col = col+YG\n",
        "    # GC\n",
        "    colorwheel[col:col+GC, 1] = 255\n",
        "    colorwheel[col:col+GC, 2] = np.floor(255*np.arange(0,GC)/GC)\n",
        "    col = col+GC\n",
        "    # CB\n",
        "    colorwheel[col:col+CB, 1] = 255 - np.floor(255*np.arange(CB)/CB)\n",
        "    colorwheel[col:col+CB, 2] = 255\n",
        "    col = col+CB\n",
        "    # BM\n",
        "    colorwheel[col:col+BM, 2] = 255\n",
        "    colorwheel[col:col+BM, 0] = np.floor(255*np.arange(0,BM)/BM)\n",
        "    col = col+BM\n",
        "    # MR\n",
        "    colorwheel[col:col+MR, 2] = 255 - np.floor(255*np.arange(MR)/MR)\n",
        "    colorwheel[col:col+MR, 0] = 255\n",
        "    return colorwheel\n",
        "\n",
        "\n",
        "def flow_uv_to_colors(u, v, convert_to_bgr=False):\n",
        "    \"\"\"\n",
        "    Applies the flow color wheel to (possibly clipped) flow components u and v.\n",
        "\n",
        "    According to the C++ source code of Daniel Scharstein\n",
        "    According to the Matlab source code of Deqing Sun\n",
        "\n",
        "    Args:\n",
        "        u (np.ndarray): Input horizontal flow of shape [H,W]\n",
        "        v (np.ndarray): Input vertical flow of shape [H,W]\n",
        "        convert_to_bgr (bool, optional): Convert output image to BGR. Defaults to False.\n",
        "\n",
        "    Returns:\n",
        "        np.ndarray: Flow visualization image of shape [H,W,3]\n",
        "    \"\"\"\n",
        "    flow_image = np.zeros((u.shape[0], u.shape[1], 3), np.uint8)\n",
        "    colorwheel = make_colorwheel()  # shape [55x3]\n",
        "    ncols = colorwheel.shape[0]\n",
        "    rad = np.sqrt(np.square(u) + np.square(v))\n",
        "    a = np.arctan2(-v, -u)/np.pi\n",
        "    fk = (a+1) / 2*(ncols-1)\n",
        "    k0 = np.floor(fk).astype(np.int32)\n",
        "    k1 = k0 + 1\n",
        "    k1[k1 == ncols] = 0\n",
        "    f = fk - k0\n",
        "    for i in range(colorwheel.shape[1]):\n",
        "        tmp = colorwheel[:,i]\n",
        "        col0 = tmp[k0] / 255.0\n",
        "        col1 = tmp[k1] / 255.0\n",
        "        col = (1-f)*col0 + f*col1\n",
        "        idx = (rad <= 1)\n",
        "        col[idx]  = 1 - rad[idx] * (1-col[idx])\n",
        "        col[~idx] = col[~idx] * 0.75   # out of range\n",
        "        # Note the 2-i => BGR instead of RGB\n",
        "        ch_idx = 2-i if convert_to_bgr else i\n",
        "        flow_image[:,:,ch_idx] = np.floor(255 * col)\n",
        "    return flow_image\n",
        "\n",
        "\n",
        "def flow_to_image(flow_uv, clip_flow=None, convert_to_bgr=False):\n",
        "    \"\"\"\n",
        "    Expects a two dimensional flow image of shape.\n",
        "\n",
        "    Args:\n",
        "        flow_uv (np.ndarray): Flow UV image of shape [H,W,2]\n",
        "        clip_flow (float, optional): Clip maximum of flow values. Defaults to None.\n",
        "        convert_to_bgr (bool, optional): Convert output image to BGR. Defaults to False.\n",
        "\n",
        "    Returns:\n",
        "        np.ndarray: Flow visualization image of shape [H,W,3]\n",
        "    \"\"\"\n",
        "    assert flow_uv.ndim == 3, 'input flow must have three dimensions'\n",
        "    assert flow_uv.shape[2] == 2, 'input flow must have shape [H,W,2]'\n",
        "    if clip_flow is not None:\n",
        "        flow_uv = np.clip(flow_uv, 0, clip_flow)\n",
        "    u = flow_uv[:,:,0]\n",
        "    v = flow_uv[:,:,1]\n",
        "    rad = np.sqrt(np.square(u) + np.square(v))\n",
        "    rad_max = np.max(rad)\n",
        "    epsilon = 1e-5\n",
        "    u = u / (rad_max + epsilon)\n",
        "    v = v / (rad_max + epsilon)\n",
        "    return flow_uv_to_colors(u, v, convert_to_bgr)"
      ],
      "metadata": {
        "id": "TwfCL--o8JMQ"
      },
      "execution_count": null,
      "outputs": []
    },
    {
      "cell_type": "markdown",
      "source": [
        "#code"
      ],
      "metadata": {
        "id": "TAaBDSZi8G5o"
      }
    },
    {
      "cell_type": "markdown",
      "source": [
        "DATASET"
      ],
      "metadata": {
        "id": "mIZ8TYLFudXx"
      }
    },
    {
      "cell_type": "code",
      "source": [
        "from google.colab import drive\n",
        "drive.mount('/content/drive')\n",
        "!unzip /content/drive/Shareddrives/Colab/DVPA_Assignment/Assignment_2/00001.zip"
      ],
      "metadata": {
        "id": "U2Rmj0jC_n3E",
        "colab": {
          "base_uri": "https://localhost:8080/"
        },
        "outputId": "9f5dbbaf-0d6a-49f9-a7eb-72d8820f2249"
      },
      "execution_count": null,
      "outputs": [
        {
          "output_type": "stream",
          "name": "stdout",
          "text": [
            "Mounted at /content/drive\n",
            "Archive:  /content/drive/Shareddrives/Colab/DVPA_Assignment/Assignment_2/00001.zip\n",
            " extracting: 00001/CameraExtrinsics.csv  \n",
            " extracting: 00001/rgb/0000.png      \n",
            " extracting: 00001/rgb/0001.png      \n",
            " extracting: 00001/rgb/0002.png      \n",
            " extracting: 00001/rgb/0003.png      \n",
            " extracting: 00001/rgb/0004.png      \n",
            " extracting: 00001/rgb/0005.png      \n",
            " extracting: 00001/rgb/0006.png      \n",
            " extracting: 00001/rgb/0007.png      \n",
            " extracting: 00001/rgb/0008.png      \n",
            " extracting: 00001/rgb/0009.png      \n",
            " extracting: 00001/rgb/0010.png      \n",
            " extracting: 00001/rgb/0011.png      \n",
            " extracting: 00001/rgb/0012.png      \n",
            " extracting: 00001/rgb/0013.png      \n",
            " extracting: 00001/rgb/0014.png      \n",
            " extracting: 00001/rgb/0015.png      \n",
            " extracting: 00001/rgb/0016.png      \n",
            " extracting: 00001/rgb/0017.png      \n",
            " extracting: 00001/rgb/0018.png      \n",
            " extracting: 00001/rgb/0019.png      \n",
            " extracting: 00001/rgb/0020.png      \n",
            " extracting: 00001/rgb/0021.png      \n",
            " extracting: 00001/rgb/0022.png      \n",
            " extracting: 00001/rgb/0023.png      \n",
            " extracting: 00001/rgb/0024.png      \n",
            " extracting: 00001/rgb/0025.png      \n",
            " extracting: 00001/rgb/0026.png      \n",
            " extracting: 00001/rgb/0027.png      \n",
            " extracting: 00001/rgb/0028.png      \n",
            " extracting: 00001/rgb/0029.png      \n",
            " extracting: 00001/rgb/0030.png      \n",
            " extracting: 00001/rgb/0031.png      \n",
            " extracting: 00001/rgb/0032.png      \n",
            " extracting: 00001/rgb/0033.png      \n",
            " extracting: 00001/rgb/0034.png      \n",
            " extracting: 00001/rgb/0035.png      \n",
            " extracting: 00001/rgb/0036.png      \n",
            " extracting: 00001/rgb/0037.png      \n",
            " extracting: 00001/rgb/0038.png      \n",
            " extracting: 00001/rgb/0039.png      \n",
            " extracting: 00001/rgb/0040.png      \n",
            " extracting: 00001/rgb/0041.png      \n",
            " extracting: 00001/rgb/0042.png      \n",
            " extracting: 00001/rgb/0043.png      \n",
            " extracting: 00001/rgb/0044.png      \n",
            " extracting: 00001/rgb/0045.png      \n",
            " extracting: 00001/rgb/0046.png      \n",
            " extracting: 00001/rgb/0047.png      \n",
            " extracting: 00001/rgb/0048.png      \n",
            " extracting: 00001/rgb/0049.png      \n",
            " extracting: 00001/CameraIntrinsics.csv  \n"
          ]
        }
      ]
    },
    {
      "cell_type": "markdown",
      "source": [
        "RAFT MODEL"
      ],
      "metadata": {
        "id": "L7M4Dt3uu2qL"
      }
    },
    {
      "cell_type": "code",
      "execution_count": null,
      "metadata": {
        "id": "fTSGcOazqIgK",
        "colab": {
          "base_uri": "https://localhost:8080/"
        },
        "outputId": "17dae702-ec63-40cb-ad32-972a461e83f3"
      },
      "outputs": [
        {
          "output_type": "stream",
          "name": "stdout",
          "text": [
            "Cloning into 'RAFT'...\n",
            "remote: Enumerating objects: 147, done.\u001b[K\n",
            "remote: Counting objects: 100% (3/3), done.\u001b[K\n",
            "remote: Compressing objects: 100% (3/3), done.\u001b[K\n",
            "remote: Total 147 (delta 0), reused 2 (delta 0), pack-reused 144\u001b[K\n",
            "Receiving objects: 100% (147/147), 10.01 MiB | 28.89 MiB/s, done.\n",
            "Resolving deltas: 100% (57/57), done.\n"
          ]
        }
      ],
      "source": [
        "!git clone https://github.com/princeton-vl/RAFT.git"
      ]
    },
    {
      "cell_type": "code",
      "source": [
        "cd /content/RAFT/core"
      ],
      "metadata": {
        "colab": {
          "base_uri": "https://localhost:8080/"
        },
        "id": "v2s5ZSWCH9yt",
        "outputId": "e66fa1f2-2937-40e5-a91e-27e93b20537e"
      },
      "execution_count": null,
      "outputs": [
        {
          "output_type": "stream",
          "name": "stdout",
          "text": [
            "/content/RAFT/core\n"
          ]
        }
      ]
    },
    {
      "cell_type": "code",
      "source": [
        "!/content/RAFT/download_models.sh"
      ],
      "metadata": {
        "id": "aHqUfZI1wK-a",
        "colab": {
          "base_uri": "https://localhost:8080/"
        },
        "outputId": "619b02ec-935a-4de3-c0b7-94774ccc3b7f"
      },
      "execution_count": null,
      "outputs": [
        {
          "output_type": "stream",
          "name": "stdout",
          "text": [
            "--2023-10-22 19:23:15--  https://dl.dropboxusercontent.com/s/4j4z58wuv8o0mfz/models.zip\n",
            "Resolving dl.dropboxusercontent.com (dl.dropboxusercontent.com)... 162.125.3.15, 2620:100:6018:15::a27d:30f\n",
            "Connecting to dl.dropboxusercontent.com (dl.dropboxusercontent.com)|162.125.3.15|:443... connected.\n",
            "HTTP request sent, awaiting response... 200 OK\n",
            "Length: 81977417 (78M) [application/zip]\n",
            "Saving to: ‘models.zip’\n",
            "\n",
            "models.zip          100%[===================>]  78.18M   105MB/s    in 0.7s    \n",
            "\n",
            "2023-10-22 19:23:17 (105 MB/s) - ‘models.zip’ saved [81977417/81977417]\n",
            "\n",
            "Archive:  models.zip\n",
            "   creating: models/\n",
            "  inflating: models/raft-kitti.pth   \n",
            "  inflating: models/raft-sintel.pth  \n",
            "  inflating: models/raft-chairs.pth  \n",
            "  inflating: models/raft-things.pth  \n",
            "  inflating: models/raft-small.pth   \n"
          ]
        }
      ]
    },
    {
      "cell_type": "code",
      "source": [
        "from raft import RAFT"
      ],
      "metadata": {
        "id": "pk_EPqhUT0Fb"
      },
      "execution_count": null,
      "outputs": []
    },
    {
      "cell_type": "code",
      "source": [
        "cd /content"
      ],
      "metadata": {
        "colab": {
          "base_uri": "https://localhost:8080/"
        },
        "id": "ijceOZVHNVxy",
        "outputId": "1d57402b-b0f9-4adc-d0bb-ff9827299bf3"
      },
      "execution_count": null,
      "outputs": [
        {
          "output_type": "stream",
          "name": "stdout",
          "text": [
            "/content\n"
          ]
        }
      ]
    },
    {
      "cell_type": "code",
      "source": [
        "DEVICE = 'cuda'\n",
        "parser = argparse.ArgumentParser()\n",
        "parser.add_argument('--model',default='/content/RAFT/core/models/raft-things.pth', help=\"restore checkpoint\")\n",
        "parser.add_argument('--path', help=\"dataset for evaluation\")\n",
        "parser.add_argument('--small', action='store_true', help='use small model')\n",
        "parser.add_argument('--mixed_precision', action='store_true', help='use mixed precision')\n",
        "parser.add_argument('--alternate_corr', action='store_true', help='use efficent correlation implementation')\n",
        "parser.add_argument(\"-f\", \"--file\", required=False)\n",
        "args = parser.parse_args()\n",
        "model = torch.nn.DataParallel(RAFT(args))\n",
        "model.load_state_dict(torch.load(args.model))\n",
        "model = model.module\n",
        "model.to(DEVICE)"
      ],
      "metadata": {
        "colab": {
          "base_uri": "https://localhost:8080/"
        },
        "id": "yyVsmgAE6FsL",
        "outputId": "9700be0d-0756-4a74-9573-aae28e5cdbba"
      },
      "execution_count": null,
      "outputs": [
        {
          "output_type": "execute_result",
          "data": {
            "text/plain": [
              "RAFT(\n",
              "  (fnet): BasicEncoder(\n",
              "    (norm1): InstanceNorm2d(64, eps=1e-05, momentum=0.1, affine=False, track_running_stats=False)\n",
              "    (conv1): Conv2d(3, 64, kernel_size=(7, 7), stride=(2, 2), padding=(3, 3))\n",
              "    (relu1): ReLU(inplace=True)\n",
              "    (layer1): Sequential(\n",
              "      (0): ResidualBlock(\n",
              "        (conv1): Conv2d(64, 64, kernel_size=(3, 3), stride=(1, 1), padding=(1, 1))\n",
              "        (conv2): Conv2d(64, 64, kernel_size=(3, 3), stride=(1, 1), padding=(1, 1))\n",
              "        (relu): ReLU(inplace=True)\n",
              "        (norm1): InstanceNorm2d(64, eps=1e-05, momentum=0.1, affine=False, track_running_stats=False)\n",
              "        (norm2): InstanceNorm2d(64, eps=1e-05, momentum=0.1, affine=False, track_running_stats=False)\n",
              "      )\n",
              "      (1): ResidualBlock(\n",
              "        (conv1): Conv2d(64, 64, kernel_size=(3, 3), stride=(1, 1), padding=(1, 1))\n",
              "        (conv2): Conv2d(64, 64, kernel_size=(3, 3), stride=(1, 1), padding=(1, 1))\n",
              "        (relu): ReLU(inplace=True)\n",
              "        (norm1): InstanceNorm2d(64, eps=1e-05, momentum=0.1, affine=False, track_running_stats=False)\n",
              "        (norm2): InstanceNorm2d(64, eps=1e-05, momentum=0.1, affine=False, track_running_stats=False)\n",
              "      )\n",
              "    )\n",
              "    (layer2): Sequential(\n",
              "      (0): ResidualBlock(\n",
              "        (conv1): Conv2d(64, 96, kernel_size=(3, 3), stride=(2, 2), padding=(1, 1))\n",
              "        (conv2): Conv2d(96, 96, kernel_size=(3, 3), stride=(1, 1), padding=(1, 1))\n",
              "        (relu): ReLU(inplace=True)\n",
              "        (norm1): InstanceNorm2d(96, eps=1e-05, momentum=0.1, affine=False, track_running_stats=False)\n",
              "        (norm2): InstanceNorm2d(96, eps=1e-05, momentum=0.1, affine=False, track_running_stats=False)\n",
              "        (norm3): InstanceNorm2d(96, eps=1e-05, momentum=0.1, affine=False, track_running_stats=False)\n",
              "        (downsample): Sequential(\n",
              "          (0): Conv2d(64, 96, kernel_size=(1, 1), stride=(2, 2))\n",
              "          (1): InstanceNorm2d(96, eps=1e-05, momentum=0.1, affine=False, track_running_stats=False)\n",
              "        )\n",
              "      )\n",
              "      (1): ResidualBlock(\n",
              "        (conv1): Conv2d(96, 96, kernel_size=(3, 3), stride=(1, 1), padding=(1, 1))\n",
              "        (conv2): Conv2d(96, 96, kernel_size=(3, 3), stride=(1, 1), padding=(1, 1))\n",
              "        (relu): ReLU(inplace=True)\n",
              "        (norm1): InstanceNorm2d(96, eps=1e-05, momentum=0.1, affine=False, track_running_stats=False)\n",
              "        (norm2): InstanceNorm2d(96, eps=1e-05, momentum=0.1, affine=False, track_running_stats=False)\n",
              "      )\n",
              "    )\n",
              "    (layer3): Sequential(\n",
              "      (0): ResidualBlock(\n",
              "        (conv1): Conv2d(96, 128, kernel_size=(3, 3), stride=(2, 2), padding=(1, 1))\n",
              "        (conv2): Conv2d(128, 128, kernel_size=(3, 3), stride=(1, 1), padding=(1, 1))\n",
              "        (relu): ReLU(inplace=True)\n",
              "        (norm1): InstanceNorm2d(128, eps=1e-05, momentum=0.1, affine=False, track_running_stats=False)\n",
              "        (norm2): InstanceNorm2d(128, eps=1e-05, momentum=0.1, affine=False, track_running_stats=False)\n",
              "        (norm3): InstanceNorm2d(128, eps=1e-05, momentum=0.1, affine=False, track_running_stats=False)\n",
              "        (downsample): Sequential(\n",
              "          (0): Conv2d(96, 128, kernel_size=(1, 1), stride=(2, 2))\n",
              "          (1): InstanceNorm2d(128, eps=1e-05, momentum=0.1, affine=False, track_running_stats=False)\n",
              "        )\n",
              "      )\n",
              "      (1): ResidualBlock(\n",
              "        (conv1): Conv2d(128, 128, kernel_size=(3, 3), stride=(1, 1), padding=(1, 1))\n",
              "        (conv2): Conv2d(128, 128, kernel_size=(3, 3), stride=(1, 1), padding=(1, 1))\n",
              "        (relu): ReLU(inplace=True)\n",
              "        (norm1): InstanceNorm2d(128, eps=1e-05, momentum=0.1, affine=False, track_running_stats=False)\n",
              "        (norm2): InstanceNorm2d(128, eps=1e-05, momentum=0.1, affine=False, track_running_stats=False)\n",
              "      )\n",
              "    )\n",
              "    (conv2): Conv2d(128, 256, kernel_size=(1, 1), stride=(1, 1))\n",
              "  )\n",
              "  (cnet): BasicEncoder(\n",
              "    (norm1): BatchNorm2d(64, eps=1e-05, momentum=0.1, affine=True, track_running_stats=True)\n",
              "    (conv1): Conv2d(3, 64, kernel_size=(7, 7), stride=(2, 2), padding=(3, 3))\n",
              "    (relu1): ReLU(inplace=True)\n",
              "    (layer1): Sequential(\n",
              "      (0): ResidualBlock(\n",
              "        (conv1): Conv2d(64, 64, kernel_size=(3, 3), stride=(1, 1), padding=(1, 1))\n",
              "        (conv2): Conv2d(64, 64, kernel_size=(3, 3), stride=(1, 1), padding=(1, 1))\n",
              "        (relu): ReLU(inplace=True)\n",
              "        (norm1): BatchNorm2d(64, eps=1e-05, momentum=0.1, affine=True, track_running_stats=True)\n",
              "        (norm2): BatchNorm2d(64, eps=1e-05, momentum=0.1, affine=True, track_running_stats=True)\n",
              "      )\n",
              "      (1): ResidualBlock(\n",
              "        (conv1): Conv2d(64, 64, kernel_size=(3, 3), stride=(1, 1), padding=(1, 1))\n",
              "        (conv2): Conv2d(64, 64, kernel_size=(3, 3), stride=(1, 1), padding=(1, 1))\n",
              "        (relu): ReLU(inplace=True)\n",
              "        (norm1): BatchNorm2d(64, eps=1e-05, momentum=0.1, affine=True, track_running_stats=True)\n",
              "        (norm2): BatchNorm2d(64, eps=1e-05, momentum=0.1, affine=True, track_running_stats=True)\n",
              "      )\n",
              "    )\n",
              "    (layer2): Sequential(\n",
              "      (0): ResidualBlock(\n",
              "        (conv1): Conv2d(64, 96, kernel_size=(3, 3), stride=(2, 2), padding=(1, 1))\n",
              "        (conv2): Conv2d(96, 96, kernel_size=(3, 3), stride=(1, 1), padding=(1, 1))\n",
              "        (relu): ReLU(inplace=True)\n",
              "        (norm1): BatchNorm2d(96, eps=1e-05, momentum=0.1, affine=True, track_running_stats=True)\n",
              "        (norm2): BatchNorm2d(96, eps=1e-05, momentum=0.1, affine=True, track_running_stats=True)\n",
              "        (norm3): BatchNorm2d(96, eps=1e-05, momentum=0.1, affine=True, track_running_stats=True)\n",
              "        (downsample): Sequential(\n",
              "          (0): Conv2d(64, 96, kernel_size=(1, 1), stride=(2, 2))\n",
              "          (1): BatchNorm2d(96, eps=1e-05, momentum=0.1, affine=True, track_running_stats=True)\n",
              "        )\n",
              "      )\n",
              "      (1): ResidualBlock(\n",
              "        (conv1): Conv2d(96, 96, kernel_size=(3, 3), stride=(1, 1), padding=(1, 1))\n",
              "        (conv2): Conv2d(96, 96, kernel_size=(3, 3), stride=(1, 1), padding=(1, 1))\n",
              "        (relu): ReLU(inplace=True)\n",
              "        (norm1): BatchNorm2d(96, eps=1e-05, momentum=0.1, affine=True, track_running_stats=True)\n",
              "        (norm2): BatchNorm2d(96, eps=1e-05, momentum=0.1, affine=True, track_running_stats=True)\n",
              "      )\n",
              "    )\n",
              "    (layer3): Sequential(\n",
              "      (0): ResidualBlock(\n",
              "        (conv1): Conv2d(96, 128, kernel_size=(3, 3), stride=(2, 2), padding=(1, 1))\n",
              "        (conv2): Conv2d(128, 128, kernel_size=(3, 3), stride=(1, 1), padding=(1, 1))\n",
              "        (relu): ReLU(inplace=True)\n",
              "        (norm1): BatchNorm2d(128, eps=1e-05, momentum=0.1, affine=True, track_running_stats=True)\n",
              "        (norm2): BatchNorm2d(128, eps=1e-05, momentum=0.1, affine=True, track_running_stats=True)\n",
              "        (norm3): BatchNorm2d(128, eps=1e-05, momentum=0.1, affine=True, track_running_stats=True)\n",
              "        (downsample): Sequential(\n",
              "          (0): Conv2d(96, 128, kernel_size=(1, 1), stride=(2, 2))\n",
              "          (1): BatchNorm2d(128, eps=1e-05, momentum=0.1, affine=True, track_running_stats=True)\n",
              "        )\n",
              "      )\n",
              "      (1): ResidualBlock(\n",
              "        (conv1): Conv2d(128, 128, kernel_size=(3, 3), stride=(1, 1), padding=(1, 1))\n",
              "        (conv2): Conv2d(128, 128, kernel_size=(3, 3), stride=(1, 1), padding=(1, 1))\n",
              "        (relu): ReLU(inplace=True)\n",
              "        (norm1): BatchNorm2d(128, eps=1e-05, momentum=0.1, affine=True, track_running_stats=True)\n",
              "        (norm2): BatchNorm2d(128, eps=1e-05, momentum=0.1, affine=True, track_running_stats=True)\n",
              "      )\n",
              "    )\n",
              "    (conv2): Conv2d(128, 256, kernel_size=(1, 1), stride=(1, 1))\n",
              "  )\n",
              "  (update_block): BasicUpdateBlock(\n",
              "    (encoder): BasicMotionEncoder(\n",
              "      (convc1): Conv2d(324, 256, kernel_size=(1, 1), stride=(1, 1))\n",
              "      (convc2): Conv2d(256, 192, kernel_size=(3, 3), stride=(1, 1), padding=(1, 1))\n",
              "      (convf1): Conv2d(2, 128, kernel_size=(7, 7), stride=(1, 1), padding=(3, 3))\n",
              "      (convf2): Conv2d(128, 64, kernel_size=(3, 3), stride=(1, 1), padding=(1, 1))\n",
              "      (conv): Conv2d(256, 126, kernel_size=(3, 3), stride=(1, 1), padding=(1, 1))\n",
              "    )\n",
              "    (gru): SepConvGRU(\n",
              "      (convz1): Conv2d(384, 128, kernel_size=(1, 5), stride=(1, 1), padding=(0, 2))\n",
              "      (convr1): Conv2d(384, 128, kernel_size=(1, 5), stride=(1, 1), padding=(0, 2))\n",
              "      (convq1): Conv2d(384, 128, kernel_size=(1, 5), stride=(1, 1), padding=(0, 2))\n",
              "      (convz2): Conv2d(384, 128, kernel_size=(5, 1), stride=(1, 1), padding=(2, 0))\n",
              "      (convr2): Conv2d(384, 128, kernel_size=(5, 1), stride=(1, 1), padding=(2, 0))\n",
              "      (convq2): Conv2d(384, 128, kernel_size=(5, 1), stride=(1, 1), padding=(2, 0))\n",
              "    )\n",
              "    (flow_head): FlowHead(\n",
              "      (conv1): Conv2d(128, 256, kernel_size=(3, 3), stride=(1, 1), padding=(1, 1))\n",
              "      (conv2): Conv2d(256, 2, kernel_size=(3, 3), stride=(1, 1), padding=(1, 1))\n",
              "      (relu): ReLU(inplace=True)\n",
              "    )\n",
              "    (mask): Sequential(\n",
              "      (0): Conv2d(128, 256, kernel_size=(3, 3), stride=(1, 1), padding=(1, 1))\n",
              "      (1): ReLU(inplace=True)\n",
              "      (2): Conv2d(256, 576, kernel_size=(1, 1), stride=(1, 1))\n",
              "    )\n",
              "  )\n",
              ")"
            ]
          },
          "metadata": {},
          "execution_count": 17
        }
      ]
    },
    {
      "cell_type": "markdown",
      "source": [
        "FUNCTIONS"
      ],
      "metadata": {
        "id": "mzoMHu0ovCTQ"
      }
    },
    {
      "cell_type": "code",
      "source": [
        "from PIL import Image\n",
        "def load_image(imfile):\n",
        "    img = np.array(Image.open(imfile)).astype(np.uint8)\n",
        "    img = torch.from_numpy(img).permute(2, 0, 1).float()\n",
        "    return img[None].to(DEVICE)\n",
        "def move_flow(a,b,t,frame0,frame1):\n",
        "    y,x = np.float32(np.meshgrid(np.arange(frame0.shape[1]),np.arange(frame0.shape[0])))\n",
        "    x1,y1 = np.round(np.float32(x+t*a)).astype(\"uint32\"),np.round(np.float32(y+t*b)).astype(\"uint32\")\n",
        "\n",
        "    U_x = np.zeros(frame0.shape, dtype = np.float32)\n",
        "    tmp_x = np.zeros(frame0.shape, dtype = np.float32)\n",
        "    U_y = np.zeros(frame0.shape, dtype = np.float32)\n",
        "    tmp_y = np.zeros(frame0.shape, dtype = np.float32)\n",
        "\n",
        "    # Occlusion mask\n",
        "    O0= np.zeros(frame0.shape)\n",
        "    O1 = np.ones(frame0.shape)\n",
        "\n",
        "\n",
        "    for i in range(frame0.shape[0]):\n",
        "      for j in range(frame0.shape[1]):\n",
        "\n",
        "######################Creating U_x########################\n",
        "        k,l = min(x1[i,j],frame1.shape[0]-1),min(y1[i,j],frame1.shape[1]-1)\n",
        "\n",
        "        O1[k,l] = 0\n",
        "        diff = abs(frame0[i,j] - frame1[k,l])\n",
        "        # If U_x not updated\n",
        "        if not U_x[k,l]:\n",
        "          U_x[k,l] = a[i,j]\n",
        "          tmp_x[k,l] = diff\n",
        "        else:\n",
        "        # If U_x already updated\n",
        "          if diff<tmp_x[k,l]:\n",
        "            tmp_x[k,l] = diff\n",
        "            U_x[k,l] = a[i,j]\n",
        "\n",
        "#######################Creating U_y########################\n",
        "        m,n = min(x1[i,j],frame1.shape[0]-1),min(y1[i,j],frame1.shape[1]-1)\n",
        "\n",
        "        diff2 = abs(frame0[i,j] - frame1[m,n])\n",
        "        if not U_y[m,n]:\n",
        "          U_y[m,n] = b[i,j]\n",
        "          tmp_y[m,n] = diff2\n",
        "        else:\n",
        "          if diff2<tmp_y[m,n]:\n",
        "            tmp_y[m,n] = diff2\n",
        "            U_y[m,n] = b[i,j]\n",
        "\n",
        "    return U_x, U_y\n",
        "\n",
        "def move_frames(frame0,a,b):\n",
        "    h, w = frame0.shape[:2]\n",
        "    x, y = np.meshgrid(np.arange(w), np.arange(h))\n",
        "    x1, y1 = np.clip(x+a, 0, w-1), np.clip(y+b, 0, h-1)\n",
        "    warped_image = cv2.remap(frame0,x1.astype(np.float32),y1.astype(np.float32),interpolation=cv2.INTER_LINEAR)\n",
        "    return warped_image\n"
      ],
      "metadata": {
        "id": "PJKrz-7nK0k_"
      },
      "execution_count": null,
      "outputs": []
    },
    {
      "cell_type": "code",
      "execution_count": null,
      "metadata": {
        "id": "kJRDnzgr1gRd"
      },
      "outputs": [],
      "source": [
        "def create_frames(K,imgg0,imgg1,itr):\n",
        "  grey_img0 = cv2.cvtColor(imgg0, cv2.COLOR_BGR2GRAY)\n",
        "  grey_img1 = cv2.cvtColor(imgg1, cv2.COLOR_BGR2GRAY)\n",
        "  img0, img1 = torch.tensor(imgg0), torch.tensor(imgg1)\n",
        "  img0, img1 = img0.permute((2,0,1)).unsqueeze(0), img1.permute((2,0,1)).unsqueeze(0)\n",
        "\n",
        "  with torch.no_grad():\n",
        "    img0 = img0.to('cuda')\n",
        "    img1 = img1.to('cuda')\n",
        "    fr0 = model(img0,img1,itr,test_mode=True)[1].cpu().numpy()\n",
        "    fr1 = model(img1,img0,itr,test_mode=True)[1].cpu().numpy()\n",
        "  a_f,b_f,a_b,b_b = fr0[0][0], fr0[0][1], fr1[0][0], fr1[0][1]\n",
        "  frames = []\n",
        "  for i in range(K):\n",
        "    t = (i+1)/(K+1)\n",
        "    a,b = move_flow(a_f,b_f,t,grey_img0,grey_img1)\n",
        "    a = (1-t)*a\n",
        "    b = (1-t)*b\n",
        "    frame_f = (t*(move_frames(imgg1,a,b)))\n",
        "    a,b = move_flow(a_b,b_b,1-t,grey_img1,grey_img0)\n",
        "    a = t*a\n",
        "    b = t*b\n",
        "    frame_b = ((1-t)*(move_frames(imgg0,a,b)))\n",
        "    frame = (frame_f + frame_b).astype('uint8')\n",
        "    frames.append(frame)\n",
        "  return frames"
      ]
    },
    {
      "cell_type": "markdown",
      "source": [
        "#Q1.(a) Pre-trained RAFT model"
      ],
      "metadata": {
        "id": "WtlU9kK3_jRq"
      }
    },
    {
      "cell_type": "markdown",
      "source": [
        "### K = 1"
      ],
      "metadata": {
        "id": "yUonziiWYfY-"
      }
    },
    {
      "cell_type": "markdown",
      "source": [
        "Getting interpolated frame between 2 frames"
      ],
      "metadata": {
        "id": "sRzqSbY9ZiYf"
      }
    },
    {
      "cell_type": "code",
      "source": [
        "frame_dir = \"/content/00001/rgb\"\n",
        "frame_list=[]\n",
        "orig_frames=[]\n",
        "new_frames = []\n",
        "K=1\n",
        "itr = 24\n",
        "for frame_name in sorted(os.listdir(frame_dir)):\n",
        "  frame_path = os.path.join(frame_dir,frame_name)\n",
        "  frame = cv2.imread(frame_path)\n",
        "  frame_list.append(frame)\n",
        "\n",
        "for i in range(0,len(frame_list)-K-1,K+1):\n",
        "  print(i)\n",
        "  new_frames.append(frame_list[i])\n",
        "  f = create_frames(K,frame_list[i],frame_list[i+K+1],itr)  # K = 1\n",
        "  new_frames+=f\n",
        "  io.imshow(f[0])\n",
        "  for j in range(i,i+K+1):\n",
        "    orig_frames.append(frame_list[i])\n",
        "new_frames.append(frame_list[i])\n",
        "orig_frames.append(frame_list[i])"
      ],
      "metadata": {
        "colab": {
          "base_uri": "https://localhost:8080/",
          "height": 872
        },
        "id": "6jBfKLzQAf7o",
        "outputId": "9b4ffd92-60a2-4ecf-9c78-1fc68f468be0"
      },
      "execution_count": null,
      "outputs": [
        {
          "output_type": "stream",
          "name": "stdout",
          "text": [
            "0\n"
          ]
        },
        {
          "output_type": "stream",
          "name": "stderr",
          "text": [
            "<ipython-input-14-f19e01883dad>:23: RuntimeWarning: overflow encountered in ubyte_scalars\n",
            "  diff = abs(frame0[i,j] - frame1[k,l])\n",
            "<ipython-input-14-f19e01883dad>:37: RuntimeWarning: overflow encountered in ubyte_scalars\n",
            "  diff2 = abs(frame0[i,j] - frame1[m,n])\n"
          ]
        },
        {
          "output_type": "stream",
          "name": "stdout",
          "text": [
            "2\n",
            "4\n",
            "6\n",
            "8\n",
            "10\n",
            "12\n",
            "14\n",
            "16\n",
            "18\n",
            "20\n",
            "22\n",
            "24\n",
            "26\n",
            "28\n",
            "30\n",
            "32\n",
            "34\n",
            "36\n",
            "38\n",
            "40\n",
            "42\n",
            "44\n",
            "46\n"
          ]
        },
        {
          "output_type": "display_data",
          "data": {
            "text/plain": [
              "<Figure size 640x480 with 1 Axes>"
            ],
            "image/png": "[encoded data removed]"
          },
          "metadata": {}
        }
      ]
    },
    {
      "cell_type": "code",
      "source": [
        "len(new_frames), len(orig_frames)"
      ],
      "metadata": {
        "colab": {
          "base_uri": "https://localhost:8080/"
        },
        "id": "x3aRwWEFJCTr",
        "outputId": "d84c7c4d-80da-4c7a-9b74-c08bc8c2cd5a"
      },
      "execution_count": null,
      "outputs": [
        {
          "output_type": "execute_result",
          "data": {
            "text/plain": [
              "(49, 49)"
            ]
          },
          "metadata": {},
          "execution_count": 37
        }
      ]
    },
    {
      "cell_type": "markdown",
      "source": [
        "Creating video from frames"
      ],
      "metadata": {
        "id": "l0iL-ee1_mrw"
      }
    },
    {
      "cell_type": "markdown",
      "source": [
        "FUNCTION"
      ],
      "metadata": {
        "id": "HApBpNrkvdFr"
      }
    },
    {
      "cell_type": "code",
      "source": [
        "def save_frames_as_video(frames, output_video_path, frame_rate, frame_size):\n",
        "    fourcc = cv2.VideoWriter_fourcc(*'mp4v')\n",
        "    out = cv2.VideoWriter(output_video_path, fourcc, frame_rate, frame_size)\n",
        "    for frame in frames:\n",
        "        out.write(frame)\n",
        "    out.release()"
      ],
      "metadata": {
        "id": "MymX5QM6Hvk9"
      },
      "execution_count": null,
      "outputs": []
    },
    {
      "cell_type": "markdown",
      "source": [
        "VIDEO CREATION"
      ],
      "metadata": {
        "id": "pMPXDXMKveah"
      }
    },
    {
      "cell_type": "code",
      "source": [
        "frame_rate = 30\n",
        "frame_size = (1024, 576)\n",
        "output_video_path = 'output_video.mp4'\n",
        "save_frames_as_video(new_frames, output_video_path, frame_rate, frame_size)\n",
        "output_video_path = 'orig_video.mp4'\n",
        "save_frames_as_video(orig_frames, output_video_path, frame_rate, frame_size)"
      ],
      "metadata": {
        "id": "ZU8yYxzzIBSe"
      },
      "execution_count": null,
      "outputs": []
    },
    {
      "cell_type": "markdown",
      "source": [
        "## LPIPS"
      ],
      "metadata": {
        "id": "_-evbJfeFnk5"
      }
    },
    {
      "cell_type": "code",
      "source": [
        "!pip install lpips\n",
        "import lpips\n",
        "loss_fn_vgg = lpips.LPIPS(net='vgg')"
      ],
      "metadata": {
        "id": "iWN74NXI_x3f",
        "colab": {
          "base_uri": "https://localhost:8080/"
        },
        "outputId": "c2f82639-3d21-4742-b046-90a19ae53545"
      },
      "execution_count": null,
      "outputs": [
        {
          "output_type": "stream",
          "name": "stdout",
          "text": [
            "Collecting lpips\n",
            "  Downloading lpips-0.1.4-py3-none-any.whl (53 kB)\n",
            "\u001b[?25l     \u001b[90m━━━━━━━━━━━━━━━━━━━━━━━━━━━━━━━━━━━━━━━━\u001b[0m \u001b[32m0.0/53.8 kB\u001b[0m \u001b[31m?\u001b[0m eta \u001b[36m-:--:--\u001b[0m\r\u001b[2K     \u001b[90m━━━━━━━━━━━━━━━━━━━━━━━━━━━━━━━━━━━━━━━━\u001b[0m \u001b[32m53.8/53.8 kB\u001b[0m \u001b[31m1.8 MB/s\u001b[0m eta \u001b[36m0:00:00\u001b[0m\n",
            "\u001b[?25hRequirement already satisfied: torch>=0.4.0 in /usr/local/lib/python3.10/dist-packages (from lpips) (2.1.0+cu118)\n",
            "Requirement already satisfied: torchvision>=0.2.1 in /usr/local/lib/python3.10/dist-packages (from lpips) (0.16.0+cu118)\n",
            "Requirement already satisfied: numpy>=1.14.3 in /usr/local/lib/python3.10/dist-packages (from lpips) (1.23.5)\n",
            "Requirement already satisfied: scipy>=1.0.1 in /usr/local/lib/python3.10/dist-packages (from lpips) (1.11.3)\n",
            "Requirement already satisfied: tqdm>=4.28.1 in /usr/local/lib/python3.10/dist-packages (from lpips) (4.66.1)\n",
            "Requirement already satisfied: filelock in /usr/local/lib/python3.10/dist-packages (from torch>=0.4.0->lpips) (3.12.4)\n",
            "Requirement already satisfied: typing-extensions in /usr/local/lib/python3.10/dist-packages (from torch>=0.4.0->lpips) (4.5.0)\n",
            "Requirement already satisfied: sympy in /usr/local/lib/python3.10/dist-packages (from torch>=0.4.0->lpips) (1.12)\n",
            "Requirement already satisfied: networkx in /usr/local/lib/python3.10/dist-packages (from torch>=0.4.0->lpips) (3.1)\n",
            "Requirement already satisfied: jinja2 in /usr/local/lib/python3.10/dist-packages (from torch>=0.4.0->lpips) (3.1.2)\n",
            "Requirement already satisfied: fsspec in /usr/local/lib/python3.10/dist-packages (from torch>=0.4.0->lpips) (2023.6.0)\n",
            "Requirement already satisfied: triton==2.1.0 in /usr/local/lib/python3.10/dist-packages (from torch>=0.4.0->lpips) (2.1.0)\n",
            "Requirement already satisfied: requests in /usr/local/lib/python3.10/dist-packages (from torchvision>=0.2.1->lpips) (2.31.0)\n",
            "Requirement already satisfied: pillow!=8.3.*,>=5.3.0 in /usr/local/lib/python3.10/dist-packages (from torchvision>=0.2.1->lpips) (9.4.0)\n",
            "Requirement already satisfied: MarkupSafe>=2.0 in /usr/local/lib/python3.10/dist-packages (from jinja2->torch>=0.4.0->lpips) (2.1.3)\n",
            "Requirement already satisfied: charset-normalizer<4,>=2 in /usr/local/lib/python3.10/dist-packages (from requests->torchvision>=0.2.1->lpips) (3.3.0)\n",
            "Requirement already satisfied: idna<4,>=2.5 in /usr/local/lib/python3.10/dist-packages (from requests->torchvision>=0.2.1->lpips) (3.4)\n",
            "Requirement already satisfied: urllib3<3,>=1.21.1 in /usr/local/lib/python3.10/dist-packages (from requests->torchvision>=0.2.1->lpips) (2.0.7)\n",
            "Requirement already satisfied: certifi>=2017.4.17 in /usr/local/lib/python3.10/dist-packages (from requests->torchvision>=0.2.1->lpips) (2023.7.22)\n",
            "Requirement already satisfied: mpmath>=0.19 in /usr/local/lib/python3.10/dist-packages (from sympy->torch>=0.4.0->lpips) (1.3.0)\n",
            "Installing collected packages: lpips\n",
            "Successfully installed lpips-0.1.4\n",
            "Setting up [LPIPS] perceptual loss: trunk [vgg], v[0.1], spatial [off]\n"
          ]
        },
        {
          "output_type": "stream",
          "name": "stderr",
          "text": [
            "/usr/local/lib/python3.10/dist-packages/torchvision/models/_utils.py:208: UserWarning: The parameter 'pretrained' is deprecated since 0.13 and may be removed in the future, please use 'weights' instead.\n",
            "  warnings.warn(\n",
            "/usr/local/lib/python3.10/dist-packages/torchvision/models/_utils.py:223: UserWarning: Arguments other than a weight enum or `None` for 'weights' are deprecated since 0.13 and may be removed in the future. The current behavior is equivalent to passing `weights=VGG16_Weights.IMAGENET1K_V1`. You can also use `weights=VGG16_Weights.DEFAULT` to get the most up-to-date weights.\n",
            "  warnings.warn(msg)\n",
            "Downloading: \"https://download.pytorch.org/models/vgg16-397923af.pth\" to /root/.cache/torch/hub/checkpoints/vgg16-397923af.pth\n",
            "100%|██████████| 528M/528M [00:06<00:00, 87.5MB/s]\n"
          ]
        },
        {
          "output_type": "stream",
          "name": "stdout",
          "text": [
            "Loading model from: /usr/local/lib/python3.10/dist-packages/lpips/weights/v0.1/vgg.pth\n"
          ]
        }
      ]
    },
    {
      "cell_type": "code",
      "source": [
        "d = 0\n",
        "K=1\n",
        "count = 0\n",
        "for j in range(0,len(orig_frames),K+1):\n",
        "  for i in range(j+1,j+K+1):\n",
        "    if(i>=len(orig_frames)):\n",
        "      break\n",
        "    count+=1\n",
        "    img0 = (new_frames[i]/255.0)* 2.0 - 1.0\n",
        "    img0 = torch.from_numpy(img0)\n",
        "    img0 = torch.permute(img0,(2,0,1))\n",
        "    img0 = torch.unsqueeze(img0,0)\n",
        "    img0 = img0.to(torch.float32)\n",
        "\n",
        "    img1 = (orig_frames[i]/255.0)* 2.0 - 1.0\n",
        "    img1 = torch.from_numpy(img1)\n",
        "    img1 = torch.permute(img1,(2,0,1))\n",
        "    img1 = torch.unsqueeze(img1,0)\n",
        "    img1 = img1.to(torch.float32)\n",
        "\n",
        "    d = d + loss_fn_vgg(img0, img1).item()\n",
        "\n",
        "#K=1\n",
        "#LPIPS: Pre-trained RAFT model\n",
        "d = d/count\n",
        "print(d)"
      ],
      "metadata": {
        "colab": {
          "base_uri": "https://localhost:8080/"
        },
        "id": "KuW1svBrjNsS",
        "outputId": "cccadc55-75bd-425c-f683-1b72d8048374"
      },
      "execution_count": null,
      "outputs": [
        {
          "output_type": "execute_result",
          "data": {
            "text/plain": [
              "0.1334724829842647"
            ]
          },
          "metadata": {},
          "execution_count": 41
        }
      ]
    },
    {
      "cell_type": "markdown",
      "source": [
        "### PSNR"
      ],
      "metadata": {
        "id": "gaof8hlPBYp9"
      }
    },
    {
      "cell_type": "code",
      "source": [
        "psnr = 0\n",
        "count=0\n",
        "for j in range(0,len(orig_frames),K+1):\n",
        "  for i in range(j+1,j+K+1):\n",
        "    if(i>=len(orig_frames)):\n",
        "      break\n",
        "    count+=1\n",
        "    mse = np.mean((new_frames[i] - orig_frames[i]) ** 2)\n",
        "    psnr = psnr + 10 * np.log10((255 ** 2) / (mse+0.0001))\n",
        "#PSNR\n",
        "psnr = psnr/count\n",
        "print(psnr)"
      ],
      "metadata": {
        "colab": {
          "base_uri": "https://localhost:8080/"
        },
        "id": "Dd3uM5-KvSMN",
        "outputId": "f2a3600a-a265-49a7-c02c-a95224f2f38c"
      },
      "execution_count": null,
      "outputs": [
        {
          "output_type": "execute_result",
          "data": {
            "text/plain": [
              "35.87168858156816"
            ]
          },
          "metadata": {},
          "execution_count": 43
        }
      ]
    },
    {
      "cell_type": "markdown",
      "source": [
        "## K = 2"
      ],
      "metadata": {
        "id": "zPEFNLZM4gTT"
      }
    },
    {
      "cell_type": "markdown",
      "source": [
        "K = 2 means two interpolated frame between 2 frames (a little different notation from question)"
      ],
      "metadata": {
        "id": "L2iBsB7G4gTV"
      }
    },
    {
      "cell_type": "code",
      "source": [
        "frame_dir = \"/content/00001/rgb\"\n",
        "frame_list=[]\n",
        "orig_frames=[]\n",
        "new_frames = []\n",
        "K=2\n",
        "itr = 24\n",
        "for frame_name in sorted(os.listdir(frame_dir)):\n",
        "  frame_path = os.path.join(frame_dir,frame_name)\n",
        "  frame = cv2.imread(frame_path)\n",
        "  frame_list.append(frame)\n",
        "\n",
        "for i in range(0,len(frame_list)-K-1,K+1):\n",
        "  print(i)\n",
        "  new_frames.append(frame_list[i])\n",
        "  f = create_frames(K,frame_list[i],frame_list[i+K+1],itr)  # K = 2\n",
        "  new_frames+=f\n",
        "\n",
        "  for j in range(i,i+K+1):\n",
        "    orig_frames.append(frame_list[i])\n",
        "new_frames.append(frame_list[i])\n",
        "orig_frames.append(frame_list[i])"
      ],
      "metadata": {
        "colab": {
          "base_uri": "https://localhost:8080/"
        },
        "outputId": "26256707-a1ed-46e8-adf2-ca5fb6b9316d",
        "id": "8AZtNT0o4gTV"
      },
      "execution_count": null,
      "outputs": [
        {
          "output_type": "stream",
          "name": "stdout",
          "text": [
            "0\n"
          ]
        },
        {
          "output_type": "stream",
          "name": "stderr",
          "text": [
            "/usr/local/lib/python3.10/dist-packages/torch/functional.py:504: UserWarning: torch.meshgrid: in an upcoming release, it will be required to pass the indexing argument. (Triggered internally at ../aten/src/ATen/native/TensorShape.cpp:3526.)\n",
            "  return _VF.meshgrid(tensors, **kwargs)  # type: ignore[attr-defined]\n",
            "<ipython-input-13-923c1e314c43>:22: RuntimeWarning: overflow encountered in ubyte_scalars\n",
            "  diff = abs(frame0[i,j] - frame1[k,l])\n",
            "<ipython-input-13-923c1e314c43>:36: RuntimeWarning: overflow encountered in ubyte_scalars\n",
            "  diff2 = abs(frame0[i,j] - frame1[m,n])\n"
          ]
        },
        {
          "output_type": "stream",
          "name": "stdout",
          "text": [
            "3\n",
            "6\n",
            "9\n",
            "12\n",
            "15\n",
            "18\n",
            "21\n",
            "24\n",
            "27\n",
            "30\n",
            "33\n",
            "36\n",
            "39\n",
            "42\n",
            "45\n"
          ]
        }
      ]
    },
    {
      "cell_type": "markdown",
      "source": [
        "### Saving Videos"
      ],
      "metadata": {
        "id": "ajIyLaB54gTX"
      }
    },
    {
      "cell_type": "code",
      "source": [
        "frame_rate = 30\n",
        "frame_size = (1024, 576)\n",
        "output_video_path = 'output_video.mp4'\n",
        "save_frames_as_video(new_frames, output_video_path, frame_rate, frame_size)\n",
        "output_video_path = 'orig_video.mp4'\n",
        "save_frames_as_video(orig_frames, output_video_path, frame_rate, frame_size)"
      ],
      "metadata": {
        "id": "daqsTQgaKFbO"
      },
      "execution_count": null,
      "outputs": []
    },
    {
      "cell_type": "markdown",
      "source": [
        "LPIPS"
      ],
      "metadata": {
        "id": "Zyzd8nC8zWtn"
      }
    },
    {
      "cell_type": "code",
      "source": [
        "d = 0\n",
        "K=2\n",
        "count = 0\n",
        "for j in range(0,len(orig_frames),K+1):\n",
        "  for i in range(j+1,j+K+1):\n",
        "    if(i>=len(orig_frames)):\n",
        "      break\n",
        "    count+=1\n",
        "    img0 = (new_frames[i]/255.0)* 2.0 - 1.0\n",
        "    img0 = torch.from_numpy(img0)\n",
        "    img0 = torch.permute(img0,(2,0,1))\n",
        "    img0 = torch.unsqueeze(img0,0)\n",
        "    img0 = img0.to(torch.float32)\n",
        "\n",
        "    img1 = (orig_frames[i]/255.0)* 2.0 - 1.0\n",
        "    img1 = torch.from_numpy(img1)\n",
        "    img1 = torch.permute(img1,(2,0,1))\n",
        "    img1 = torch.unsqueeze(img1,0)\n",
        "    img1 = img1.to(torch.float32)\n",
        "\n",
        "    d = d + loss_fn_vgg(img0, img1).item()\n",
        "d = d/count\n",
        "\n",
        "#LPIPS\n",
        "print(d)"
      ],
      "metadata": {
        "colab": {
          "base_uri": "https://localhost:8080/"
        },
        "outputId": "bccf8822-99fb-481d-fd55-2fd4cd11f371",
        "id": "tK2olqhQ5uyv"
      },
      "execution_count": null,
      "outputs": [
        {
          "output_type": "execute_result",
          "data": {
            "text/plain": [
              "0.1758967568166554"
            ]
          },
          "metadata": {},
          "execution_count": 20
        }
      ]
    },
    {
      "cell_type": "markdown",
      "source": [
        "### PSNR"
      ],
      "metadata": {
        "id": "fdIbQNnbShWN"
      }
    },
    {
      "cell_type": "code",
      "source": [
        "psnr = 0\n",
        "count=0\n",
        "K=2\n",
        "for j in range(0,len(orig_frames),K+1):\n",
        "  for i in range(j+1,j+K+1):\n",
        "    if(i>=len(orig_frames)):\n",
        "      break\n",
        "    count+=1\n",
        "    mse = np.mean((new_frames[i] - orig_frames[i]) ** 2)\n",
        "    psnr = psnr + 10 * np.log10((255 ** 2) / (mse+0.0001))\n",
        "psnr = psnr/count\n",
        "\n",
        "#PSNR\n",
        "print(psnr)"
      ],
      "metadata": {
        "colab": {
          "base_uri": "https://localhost:8080/"
        },
        "outputId": "8713289f-3a69-4eec-c941-9b17ee81e0c7",
        "id": "OFbCT7g9ShWN"
      },
      "execution_count": null,
      "outputs": [
        {
          "output_type": "execute_result",
          "data": {
            "text/plain": [
              "34.9473165853244"
            ]
          },
          "metadata": {},
          "execution_count": 18
        }
      ]
    },
    {
      "cell_type": "markdown",
      "source": [
        "#Q1.(b) Fine tuning the number of steps"
      ],
      "metadata": {
        "id": "vrlGx0N9qYcI"
      }
    },
    {
      "cell_type": "markdown",
      "source": [
        "K=1"
      ],
      "metadata": {
        "id": "FcJa0589zlRL"
      }
    },
    {
      "cell_type": "code",
      "source": [
        "def calc_error(K,image0,image1,iteration):\n",
        "  grey_img0 = cv2.cvtColor(image0, cv2.COLOR_BGR2GRAY)\n",
        "  grey_img1 = cv2.cvtColor(image1, cv2.COLOR_BGR2GRAY)\n",
        "  img0 = torch.tensor(image0).permute((2,0,1)).unsqueeze(0).to('cuda')\n",
        "  img1 = torch.tensor(image1).permute((2,0,1)).unsqueeze(0).to('cuda')\n",
        "  with torch.no_grad():\n",
        "    f0 = model(img0,img1,iteration)\n",
        "    f1 = model(img1,img0,iteration)\n",
        "  a_f,b_f = f0[len(f0)-1][0].cpu().numpy()\n",
        "  a_b,b_b = f1[len(f1)-1][0].cpu().numpy()\n",
        "  temp_img0 = move_frames(image1,a_f,b_f)\n",
        "  temp_img1 = move_frames(image0,a_b,b_b)\n",
        "  e = np.mean((temp_img0 - image0) ** 2 + (temp_img1 - image1) ** 2)\n",
        "  return(e)"
      ],
      "metadata": {
        "id": "I2UEuu6pia0w"
      },
      "execution_count": null,
      "outputs": []
    },
    {
      "cell_type": "code",
      "source": [
        "frame_dir = \"/content/00001/rgb\"\n",
        "frame_list=[]\n",
        "errors=[]\n",
        "index = []\n",
        "K=1\n",
        "for frame_name in sorted(os.listdir(frame_dir)):\n",
        "  frame_path = os.path.join(frame_dir,frame_name)\n",
        "  frame = cv2.imread(frame_path)\n",
        "  frame_list.append(frame)\n",
        "for iteration in range(1,30,3):\n",
        "  index.append(iteration)\n",
        "  f = 0\n",
        "  for i in range(0,len(frame_list)-K-1,K+1):\n",
        "    f = f + calc_error(K,frame_list[i],frame_list[i+K+1],iteration)\n",
        "  errors.append(f)"
      ],
      "metadata": {
        "id": "PEMjVRz9bKqZ"
      },
      "execution_count": null,
      "outputs": []
    },
    {
      "cell_type": "code",
      "source": [
        "errors"
      ],
      "metadata": {
        "colab": {
          "base_uri": "https://localhost:8080/"
        },
        "outputId": "dd15457a-4ea7-49fa-dd31-465ca1ff7d4a",
        "id": "L9BAp6wKqiVA"
      },
      "execution_count": null,
      "outputs": [
        {
          "output_type": "execute_result",
          "data": {
            "text/plain": [
              "[446.384686505353,\n",
              " 275.6333996808088,\n",
              " 262.60130592628764,\n",
              " 260.8581718162254,\n",
              " 259.5508128978588,\n",
              " 259.0934600830078,\n",
              " 258.9093791820385,\n",
              " 259.1522380687572,\n",
              " 259.3984052870009,\n",
              " 259.7264020001447]"
            ]
          },
          "metadata": {},
          "execution_count": 27
        }
      ]
    },
    {
      "cell_type": "code",
      "source": [
        "index"
      ],
      "metadata": {
        "colab": {
          "base_uri": "https://localhost:8080/"
        },
        "outputId": "844779d6-83f8-456a-c6c1-f479e0d26d4f",
        "id": "SLmSAGcIqiVA"
      },
      "execution_count": null,
      "outputs": [
        {
          "output_type": "execute_result",
          "data": {
            "text/plain": [
              "[1, 4, 7, 10, 13, 16, 19, 22, 25, 28]"
            ]
          },
          "metadata": {},
          "execution_count": 28
        }
      ]
    },
    {
      "cell_type": "code",
      "source": [
        "index[np.argmin(errors)]"
      ],
      "metadata": {
        "colab": {
          "base_uri": "https://localhost:8080/"
        },
        "id": "3p1nLFsv69d1",
        "outputId": "91fe3d23-85f4-4d1e-d39c-72e1f902ad48"
      },
      "execution_count": null,
      "outputs": [
        {
          "output_type": "execute_result",
          "data": {
            "text/plain": [
              "19"
            ]
          },
          "metadata": {},
          "execution_count": 30
        }
      ]
    },
    {
      "cell_type": "code",
      "source": [
        "frame_dir = \"/content/00001/rgb\"\n",
        "frame_list=[]\n",
        "orig_frames=[]\n",
        "new_frames = []\n",
        "K=1\n",
        "iteration = index[np.argmin(errors)]\n",
        "for frame_name in sorted(os.listdir(frame_dir)):\n",
        "  frame_path = os.path.join(frame_dir,frame_name)\n",
        "  frame = cv2.imread(frame_path)\n",
        "  frame_list.append(frame)\n",
        "\n",
        "for i in range(0,len(frame_list)-K-1,K+1):\n",
        "  print(i)\n",
        "  new_frames.append(frame_list[i])\n",
        "  f = create_frames(K,frame_list[i],frame_list[i+K+1],iteration)  # K = 2\n",
        "  new_frames+=f\n",
        "  for j in range(i,i+K+1):\n",
        "    orig_frames.append(frame_list[i])\n",
        "new_frames.append(frame_list[i])\n",
        "orig_frames.append(frame_list[i])"
      ],
      "metadata": {
        "id": "BxSLUZvHWWby",
        "colab": {
          "base_uri": "https://localhost:8080/"
        },
        "outputId": "df5e0f49-17a2-44c2-f234-928e5b1a4b43"
      },
      "execution_count": null,
      "outputs": [
        {
          "output_type": "stream",
          "name": "stdout",
          "text": [
            "0\n"
          ]
        },
        {
          "output_type": "stream",
          "name": "stderr",
          "text": [
            "/usr/local/lib/python3.10/dist-packages/torch/functional.py:504: UserWarning: torch.meshgrid: in an upcoming release, it will be required to pass the indexing argument. (Triggered internally at ../aten/src/ATen/native/TensorShape.cpp:3526.)\n",
            "  return _VF.meshgrid(tensors, **kwargs)  # type: ignore[attr-defined]\n",
            "<ipython-input-19-af1510e5afa0>:27: RuntimeWarning: overflow encountered in ubyte_scalars\n",
            "  diff = abs(frame0[i,j] - frame1[k,l])\n",
            "<ipython-input-19-af1510e5afa0>:41: RuntimeWarning: overflow encountered in ubyte_scalars\n",
            "  diff2 = abs(frame0[i,j] - frame1[m,n])\n"
          ]
        },
        {
          "output_type": "stream",
          "name": "stdout",
          "text": [
            "2\n",
            "4\n",
            "6\n",
            "8\n",
            "10\n",
            "12\n",
            "14\n",
            "16\n",
            "18\n",
            "20\n",
            "22\n",
            "24\n",
            "26\n",
            "28\n",
            "30\n",
            "32\n",
            "34\n",
            "36\n",
            "38\n",
            "40\n",
            "42\n",
            "44\n",
            "46\n"
          ]
        }
      ]
    },
    {
      "cell_type": "code",
      "source": [
        "frame_rate = 30\n",
        "frame_size = (1024, 576)\n",
        "output_video_path = 'output_video_itr_k1.mp4'\n",
        "save_frames_as_video(new_frames, output_video_path, frame_rate, frame_size)"
      ],
      "metadata": {
        "id": "eV-cDlE6WaiE"
      },
      "execution_count": null,
      "outputs": []
    },
    {
      "cell_type": "markdown",
      "source": [
        "LPIPS and PSNR K=1"
      ],
      "metadata": {
        "id": "6A3KqofS1U8v"
      }
    },
    {
      "cell_type": "code",
      "source": [
        "d = 0\n",
        "K=1\n",
        "count = 0\n",
        "for j in range(0,len(orig_frames),K+1):\n",
        "  for i in range(j+1,j+K+1):\n",
        "    if(i>=len(orig_frames)):\n",
        "      break\n",
        "    count+=1\n",
        "    img0 = (new_frames[i]/255.0)* 2.0 - 1.0\n",
        "    img0 = torch.from_numpy(img0)\n",
        "    img0 = torch.permute(img0,(2,0,1))\n",
        "    img0 = torch.unsqueeze(img0,0)\n",
        "    img0 = img0.to(torch.float32)\n",
        "\n",
        "    img1 = (orig_frames[i]/255.0)* 2.0 - 1.0\n",
        "    img1 = torch.from_numpy(img1)\n",
        "    img1 = torch.permute(img1,(2,0,1))\n",
        "    img1 = torch.unsqueeze(img1,0)\n",
        "    img1 = img1.to(torch.float32)\n",
        "    d = d + loss_fn_vgg(img0, img1).item()\n",
        "d = d/count\n",
        "\n",
        "#LPIPS Iteration= 19 K=1\n",
        "print(d)"
      ],
      "metadata": {
        "id": "OCsKeFtf1WDb",
        "outputId": "634518ab-d0aa-4396-baaa-4c254f84b11b",
        "colab": {
          "base_uri": "https://localhost:8080/"
        }
      },
      "execution_count": null,
      "outputs": [
        {
          "output_type": "stream",
          "name": "stdout",
          "text": [
            "0.13369015821566185\n"
          ]
        }
      ]
    },
    {
      "cell_type": "code",
      "source": [
        "psnr = 0\n",
        "count=0\n",
        "for j in range(0,len(orig_frames),K+1):\n",
        "  for i in range(j+1,j+K+1):\n",
        "    if(i>=len(orig_frames)):\n",
        "      break\n",
        "    count+=1\n",
        "    mse = np.mean((new_frames[i] - orig_frames[i]) ** 2)\n",
        "    psnr = psnr + 10 * np.log10((255 ** 2) / (mse+0.0001))\n",
        "psnr = psnr/count\n",
        "\n",
        "#PSNR Iteration= 19 K=1\n",
        "print(psnr)"
      ],
      "metadata": {
        "id": "d5KLz6kj3g-U",
        "outputId": "5e00510c-6202-42ab-8437-293084c0f201",
        "colab": {
          "base_uri": "https://localhost:8080/"
        }
      },
      "execution_count": null,
      "outputs": [
        {
          "output_type": "stream",
          "name": "stdout",
          "text": [
            "35.87207882600881\n"
          ]
        }
      ]
    },
    {
      "cell_type": "code",
      "source": [
        "frame_dir = \"/content/00001/rgb\"\n",
        "frame_list=[]\n",
        "errors=[]\n",
        "index = []\n",
        "K=2\n",
        "for frame_name in sorted(os.listdir(frame_dir)):\n",
        "  frame_path = os.path.join(frame_dir,frame_name)\n",
        "  frame = cv2.imread(frame_path)\n",
        "  frame_list.append(frame)\n",
        "for iteration in range(1,60,3):\n",
        "  index.append(iteration)\n",
        "  f = 0\n",
        "  for i in range(0,len(frame_list)-K-1,K+1):\n",
        "    f = f + calc_error(K,frame_list[i],frame_list[i+K+1],iteration)\n",
        "  errors.append(f)"
      ],
      "metadata": {
        "id": "aCv1ogBR7eIc"
      },
      "execution_count": null,
      "outputs": []
    },
    {
      "cell_type": "code",
      "source": [
        "errors"
      ],
      "metadata": {
        "colab": {
          "base_uri": "https://localhost:8080/"
        },
        "id": "9pN0BSCW7iWr",
        "outputId": "3e245509-d3b4-4506-a502-e363aba70cdb"
      },
      "execution_count": null,
      "outputs": [
        {
          "output_type": "execute_result",
          "data": {
            "text/plain": [
              "[415.3805010760272,\n",
              " 263.9741403085214,\n",
              " 247.8069842303241,\n",
              " 244.6069669370298,\n",
              " 243.58659814905235,\n",
              " 242.85349075882522,\n",
              " 242.7734742341218,\n",
              " 242.62400026674626,\n",
              " 242.479732937283,\n",
              " 242.32536089861833,\n",
              " 243.25370675546156,\n",
              " 243.63279950177227,\n",
              " 243.72389842845777,\n",
              " 244.14860195583768,\n",
              " 244.09744884349684,\n",
              " 244.1685836226852,\n",
              " 244.1835259331597,\n",
              " 244.32931405526614,\n",
              " 244.36199894657847,\n",
              " 244.33543000397862]"
            ]
          },
          "metadata": {},
          "execution_count": 42
        }
      ]
    },
    {
      "cell_type": "code",
      "source": [
        "index"
      ],
      "metadata": {
        "colab": {
          "base_uri": "https://localhost:8080/"
        },
        "id": "qIsI1ALW7kOE",
        "outputId": "ff32c960-e227-4b5d-a240-f9104a1724b2"
      },
      "execution_count": null,
      "outputs": [
        {
          "output_type": "execute_result",
          "data": {
            "text/plain": [
              "[1, 4, 7, 10, 13, 16, 19, 22, 25, 28, 31, 34, 37, 40, 43, 46, 49, 52, 55, 58]"
            ]
          },
          "metadata": {},
          "execution_count": 43
        }
      ]
    },
    {
      "cell_type": "code",
      "source": [
        "index[np.argmin(errors)]"
      ],
      "metadata": {
        "colab": {
          "base_uri": "https://localhost:8080/"
        },
        "id": "mZuszeZV7lrk",
        "outputId": "f327b621-2d19-4548-fbdb-42aa024b50a2"
      },
      "execution_count": null,
      "outputs": [
        {
          "output_type": "execute_result",
          "data": {
            "text/plain": [
              "28"
            ]
          },
          "metadata": {},
          "execution_count": 44
        }
      ]
    },
    {
      "cell_type": "code",
      "source": [
        "frame_dir = \"/content/00001/rgb\"\n",
        "frame_list=[]\n",
        "orig_frames=[]\n",
        "new_frames = []\n",
        "K=2\n",
        "itr = index[np.argmin(errors)]\n",
        "for frame_name in sorted(os.listdir(frame_dir)):\n",
        "  frame_path = os.path.join(frame_dir,frame_name)\n",
        "  frame = cv2.imread(frame_path)\n",
        "  frame_list.append(frame)\n",
        "\n",
        "for i in range(0,len(frame_list)-K-1,K+1):\n",
        "  print(i)\n",
        "  new_frames.append(frame_list[i])\n",
        "  f = create_frames(K,frame_list[i],frame_list[i+K+1],itr)  # K = 2\n",
        "  new_frames+=f\n",
        "  for j in range(i,i+K+1):\n",
        "    orig_frames.append(frame_list[i])\n",
        "new_frames.append(frame_list[i])\n",
        "orig_frames.append(frame_list[i])"
      ],
      "metadata": {
        "id": "0G8RihlU5V4P",
        "outputId": "74d6c007-22bc-474c-8839-dee0c517016e",
        "colab": {
          "base_uri": "https://localhost:8080/"
        }
      },
      "execution_count": null,
      "outputs": [
        {
          "output_type": "stream",
          "name": "stdout",
          "text": [
            "0\n"
          ]
        },
        {
          "output_type": "stream",
          "name": "stderr",
          "text": [
            "<ipython-input-19-af1510e5afa0>:27: RuntimeWarning: overflow encountered in ubyte_scalars\n",
            "  diff = abs(frame0[i,j] - frame1[k,l])\n",
            "<ipython-input-19-af1510e5afa0>:41: RuntimeWarning: overflow encountered in ubyte_scalars\n",
            "  diff2 = abs(frame0[i,j] - frame1[m,n])\n"
          ]
        },
        {
          "output_type": "stream",
          "name": "stdout",
          "text": [
            "3\n",
            "6\n",
            "9\n",
            "12\n",
            "15\n",
            "18\n",
            "21\n",
            "24\n",
            "27\n",
            "30\n",
            "33\n",
            "36\n",
            "39\n",
            "42\n",
            "45\n"
          ]
        }
      ]
    },
    {
      "cell_type": "markdown",
      "source": [
        "LPIPS and PSNR K=2"
      ],
      "metadata": {
        "id": "Z9nNWijO3An5"
      }
    },
    {
      "cell_type": "code",
      "source": [
        "d = 0\n",
        "K=2\n",
        "count = 0\n",
        "for j in range(0,len(orig_frames),K+1):\n",
        "  for i in range(j+1,j+K+1):\n",
        "    if(i>=len(orig_frames)):\n",
        "      break\n",
        "    count+=1\n",
        "    img0 = (new_frames[i]/255.0)* 2.0 - 1.0\n",
        "    img0 = torch.from_numpy(img0)\n",
        "    img0 = torch.permute(img0,(2,0,1))\n",
        "    img0 = torch.unsqueeze(img0,0)\n",
        "    img0 = img0.to(torch.float32)\n",
        "\n",
        "    img1 = (orig_frames[i]/255.0)* 2.0 - 1.0\n",
        "    img1 = torch.from_numpy(img1)\n",
        "    img1 = torch.permute(img1,(2,0,1))\n",
        "    img1 = torch.unsqueeze(img1,0)\n",
        "    img1 = img1.to(torch.float32)\n",
        "\n",
        "    d = d + loss_fn_vgg(img0, img1).item()\n",
        "d = d/count\n",
        "#LPIPS Iteration= 28 K=2\n",
        "print(d)"
      ],
      "metadata": {
        "id": "1X135LQg2-EA",
        "outputId": "d2e307e9-3109-4c68-b287-b05b5001bbe0",
        "colab": {
          "base_uri": "https://localhost:8080/"
        }
      },
      "execution_count": null,
      "outputs": [
        {
          "output_type": "stream",
          "name": "stdout",
          "text": [
            "0.17582615790888667\n"
          ]
        }
      ]
    },
    {
      "cell_type": "code",
      "source": [
        "psnr = 0\n",
        "count=0\n",
        "K=2\n",
        "for j in range(0,len(orig_frames),K+1):\n",
        "  for i in range(j+1,j+K+1):\n",
        "    if(i>=len(orig_frames)):\n",
        "      break\n",
        "    count+=1\n",
        "    mse = np.mean((new_frames[i] - orig_frames[i]) ** 2)\n",
        "    psnr = psnr + 10 * np.log10((255 ** 2) / (mse+0.0001))\n",
        "psnr = psnr/count\n",
        "#PSNR Iteration= 28 K=2\n",
        "print(psnr)"
      ],
      "metadata": {
        "id": "ziEMu5Zr2wWQ",
        "outputId": "8cf582f9-5bb3-4b74-909c-04641075c169",
        "colab": {
          "base_uri": "https://localhost:8080/"
        }
      },
      "execution_count": null,
      "outputs": [
        {
          "output_type": "stream",
          "name": "stdout",
          "text": [
            "34.94910554392438\n"
          ]
        }
      ]
    },
    {
      "cell_type": "markdown",
      "source": [
        "VIDEO CREATION"
      ],
      "metadata": {
        "id": "HAQpj5E6247G"
      }
    },
    {
      "cell_type": "code",
      "source": [
        "frame_rate = 30\n",
        "frame_size = (1024, 576)\n",
        "output_video_path = 'output_video_itr_k2.mp4'\n",
        "save_frames_as_video(new_frames, output_video_path, frame_rate, frame_size)"
      ],
      "metadata": {
        "id": "VR4P7-5y7sks"
      },
      "execution_count": null,
      "outputs": []
    },
    {
      "cell_type": "code",
      "source": [
        "while True:pass"
      ],
      "metadata": {
        "id": "4R1ejTPF8R2R"
      },
      "execution_count": null,
      "outputs": []
    }
  ]
}